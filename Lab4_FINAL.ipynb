{
  "cells": [
    {
      "cell_type": "markdown",
      "metadata": {
        "cell_id": "e37cb69cb73a49c2ad07cf670e073cb7",
        "deepnote_cell_height": 156.390625,
        "deepnote_cell_type": "markdown",
        "id": "XUZ1dFPHzAHl"
      },
      "source": [
        "# Laboratorio 4: Spark y EDA 🐼\n",
        "\n",
        "<center><strong>MDS7202: Laboratorio de Programación Científica para Ciencia de Datos</strong></center>"
      ]
    },
    {
      "cell_type": "markdown",
      "metadata": {
        "id": "PkEUN6c8S-E_"
      },
      "source": [
        "### Cuerpo Docente:\n",
        "\n",
        "- Profesores: Ignacio Meza, Sebastián Tinoco\n",
        "- Auxiliar: Catherine Benavides\n",
        "- Ayudante: Nicolás Ojeda, Eduardo Moya"
      ]
    },
    {
      "cell_type": "markdown",
      "metadata": {
        "cell_id": "8ebcb0f2f70c43319279fdd28c13fe89",
        "deepnote_cell_height": 171.796875,
        "deepnote_cell_type": "markdown",
        "id": "tXflExjqzAHr"
      },
      "source": [
        "### Equipo: SUPER IMPORTANTE - notebooks sin nombre no serán revisados\n",
        "\n",
        "- Nombre de alumno: **Tomás Abedrapo**\n"
      ]
    },
    {
      "cell_type": "markdown",
      "metadata": {
        "cell_id": "290822720f3e4484b09e762655bcdb76",
        "deepnote_cell_height": 62,
        "deepnote_cell_type": "markdown",
        "id": "AD-V0bbZzAHr"
      },
      "source": [
        "### **Link de repositorio de GitHub:** `https://github.com/t-abedrapo/Laboratorio4_REP.git`"
      ]
    },
    {
      "cell_type": "markdown",
      "metadata": {
        "cell_id": "60255b81ff0349ad9b18f598a8d71386",
        "deepnote_cell_height": 216,
        "deepnote_cell_type": "markdown",
        "id": "hnYD2hBMAwXf",
        "tags": []
      },
      "source": [
        "### Reglas:\n",
        "\n",
        "- **Grupos de 2 personas**\n",
        "- Fecha de entrega: 7 días desde la publicación, 3 días de atraso con 1 punto de descuento c/u.\n",
        "- Instrucciones del lab el viernes a las 16:15 en formato online. Asistencia no es obligatoria.\n",
        "- <u>Prohibidas las copias</u>. Cualquier intento de copia será debidamente penalizado con el reglamento de la escuela.\n",
        "- Tienen que subir el laboratorio a u-cursos Y a su repositorio de github. Labs que no estén en u-cursos no serán revisados. Recuerden que el repositorio también tiene nota.\n",
        "- Cualquier duda fuera del horario de clases al foro. Mensajes al equipo docente serán respondidos por este medio.\n",
        "- Pueden usar cualquer material del curso que estimen conveniente."
      ]
    },
    {
      "cell_type": "markdown",
      "metadata": {
        "cell_id": "5bf6f5f66dcd4da9a6926774cec108ab",
        "deepnote_cell_height": 114.390625,
        "deepnote_cell_type": "markdown",
        "id": "xzz695obAwXg",
        "tags": []
      },
      "source": [
        "### Temas a tratar\n",
        "\n",
        "- Introducción al manejo de datos tabulares por medio de la libreria `pandas`."
      ]
    },
    {
      "cell_type": "markdown",
      "metadata": {
        "cell_id": "50ec30f08f2548a29bc979ed1741f5a0",
        "deepnote_cell_height": 243.390625,
        "deepnote_cell_type": "markdown",
        "id": "6uBLPj1PzAHs"
      },
      "source": [
        "### Objetivos principales del laboratorio\n",
        "\n",
        "- Entender, aplicar y aprovechar las ventajas que nos ofrece la libreria `pyspark` para manejar datos tabulares de gran volúmen.\n",
        "- Crear gráficos para el desarrollo de Análisis de Datos Exploratorios (EDA)."
      ]
    },
    {
      "cell_type": "markdown",
      "metadata": {
        "id": "f7hHEyTgm12s"
      },
      "source": [
        "### Datos del Lab\n",
        "\n",
        "- Base de datos: https://gitlab.com/imezadelajara/datos_clase_7_mds7202/-/raw/main/datos_lab_spark.parquet\n",
        "- Objeto serializado: https://gitlab.com/imezadelajara/datos_clase_7_mds7202/-/raw/main/object.pkl?inline=false"
      ]
    },
    {
      "cell_type": "markdown",
      "metadata": {
        "id": "6CrDdk5NRAKe"
      },
      "source": [
        "## Preguntas Teóricas [12 puntos]\n",
        "(2 por pregunta)"
      ]
    },
    {
      "cell_type": "markdown",
      "metadata": {
        "id": "EmDMGUTxLp7M"
      },
      "source": [
        "<center>\n",
        "<img src=\"https://img.buzzfeed.com/buzzfeed-static/static/2018-08/1/17/enhanced/buzzfeed-prod-web-05/anigif_enhanced-9173-1533160033-1.gif\" width=350 />\n",
        "\n"
      ]
    },
    {
      "cell_type": "markdown",
      "metadata": {
        "id": "pGZZcxMWRdIa"
      },
      "source": [
        "Responda en  máximo 5 líneas las siguientes preguntas:\n",
        "1. ¿Qué es Apache Spark y cuáles son sus principales ventajas sobre Pandas?\n",
        "2. ¿Qué es un RDD en Spark? Describe una de sus principales características. ¿Qué tienen que ver con los dataframes?.\n",
        "3. Diferencia entre transformaciones y acciones en Spark. Proporciona ejemplos de cada una. ¿Qué ocurre internamente cuando se ejecuta una acción?\n",
        "4. Explica la importancia del particionamiento en Spark y cómo afecta el rendimiento del procesamiento de datos.\n",
        "5. ¿Cuáles son las funciones de Spark Driver y Spark Executor?\n",
        "6. ¿Qué es el Catalyst Optimizer en Apache Spark y cuál es su función principal en la optimización de consultas SQL?\n"
      ]
    },
    {
      "cell_type": "markdown",
      "metadata": {
        "id": "1elJgE8JRn2O"
      },
      "source": [
        "**Respuestas**\n",
        "\n",
        ">\n",
        "1) Apache Spark corresponde a un motor unificado, diseñado para procesamiento de datos. A diferencia de Pandas, Apache Spark se enfoca en trabajar con grandes volúmenes de datos el procesamiento de datos a gran escala. Para esto posee una serie de características. Por un lado optimiza los recursos para realizar procesos, siendo asi mas eficiente y veloz que Pandas. También introduce estructuras de datos como RDD que simplifica el manejo de información.\n",
        "\n",
        "2) Un Resilient Distributed Dataset (RDD) es una estructura de datos que ofrece Spark, es una colección distribuida e inmutable de elementos de nformación, similar a un Dataframe de Pandas, donde esta posee carácterísticas para maximizar eficiencia.\n",
        "\n",
        "3) Las transformaciones son operaciones de Spark, donde estás no son ejecutadas de inmediato, si no que son registradas. Por otro lado, las acciones si se ejecutan en el momento, para esto Spark revisa el grafo dirigido acíclico (DAG) correspondiente a la acción, optimizando la secuencia de procesos a realizar.\n",
        "Ejemplos de transformaciones pueden ser \"filter\" y \"join\", que no necesariamente deben ser realizadas en el momento, mientras que \"count\" si sería una acción, ya que se necesita computar un resultado relativo a un RDD.\n",
        "\n",
        "4) El particionamiento de los datos permite el paralelismo de procesos, técnica clave dentro de las optimizaciones que realiza Spark. Se asignan núcleos de procesamiento a las particiones, así los ejecutores realizan el procesamiento de datos de forma paralela.\n",
        "\n",
        "5) Spark Driver es un proceso principal en Spark, este se coordina con el Cluster Manager para gestionar los recursos que utilizaran los ejecutores.\n",
        "Spark Executor opera en los nodos del cluster. Estos se comunican directamente con el programa conductor, llevando a cabo tareas de procesado de datos.\n",
        "\n",
        "6) Catalyst optimizer forma parte de Apache Spark y se encarga de optimizar consultas SQL. Para esto realiza reescrituras de consultas, genera planes de ejecución, etc.\n"
      ]
    },
    {
      "cell_type": "markdown",
      "metadata": {
        "cell_id": "00002-bf13ea5a-d8bf-4cee-879e-ba1c7035e657",
        "deepnote_cell_type": "markdown",
        "id": "b020ce37"
      },
      "source": [
        "## Parte Práctica\n",
        "\n"
      ]
    },
    {
      "cell_type": "markdown",
      "metadata": {
        "id": "k0DaDvtgEYTV"
      },
      "source": [
        "<center>\n",
        "<img src=\"https://pbs.twimg.com/ad_img/1285681293590749189/kDckYy6Z?format=png&name=900x900\" width=350 />"
      ]
    },
    {
      "cell_type": "markdown",
      "metadata": {
        "id": "uW1dg_5_WR8S"
      },
      "source": [
        "Juan Carlos Bodoque, el famoso periodista y empresario, decidió diversificar su portafolio de negocios y crear su propia plataforma de e-commerce. Después de varios años de investigar y analizar el mercado financiero, finalmente logró fundar Bodoque E-Shop con el objetivo de ofrecer a sus clientes una experiencia personalizada y confiable en sus transacciones.\n",
        "\n",
        "Sin embargo, con la llegada de los aliens al planeta Tierra, aparecen nuevos desafíos para el negocio. Por ello, Bodoque decide invertir en un equipo de expertos en tecnología y comercio interplanetario, para que Bodoque Shop implemente las últimas innovaciones en servicio al cliente para garantizar la satisfacción y fidelización de sus nuevos clientes.\n",
        "\n",
        "El primer objetivo de Bodoque E-Shop será la hacer un análisis exploratorio para entender mejor el comportamiento de los usuarios en la plataforma. Para ello Bodoque les hace entrega de un extenso dataset en el que se registran las actividades que han realizado sus clientes durante los últimos meses. A continuación se presenta un diccionario de variables que levanto el equipo de consultores interplanetarios de Bodoque:\n",
        "\n",
        "1. `Transaction ID`: A unique identifier for each transaction.\n",
        "2. `Customer ID`: A unique identifier for each customer.\n",
        "3. `Transaction Amount`: The total amount of money exchanged in the transaction in USD.\n",
        "4. `Transaction Date`: The date and time when the transaction took place.\n",
        "5. `Payment Method`: The method used to complete the transaction (e.g., credit card, PayPal, etc.).\n",
        "6. `Product Category`: The category of the product involved in the transaction.\n",
        "7. `Quantity`: The number of products involved in the transaction.\n",
        "8. `Customer Age`: The age of the customer making the transaction.\n",
        "9. `Customer Location`: The geographical location of the customer.\n",
        "10. `Device Used`: The type of device used to make the transaction (e.g., mobile, desktop).\n",
        "11. `IP Address`: The IP address of the device used for the transaction.\n",
        "Shipping Address: The address where the product was shipped.\n",
        "12. `Billing Address`: The address associated with the payment method.\n",
        "13. `Is An Alien`: A binary indicator of whether customer is an alien.\n",
        "14. `Account Age Days`: The age of the customer's account in days at the time of the transaction.\n",
        "15. `Transaction Hour`: The hour of the day when the transaction occurred.\n"
      ]
    },
    {
      "cell_type": "markdown",
      "metadata": {
        "cell_id": "1769820f70244385ab5ac51f7509b6de",
        "deepnote_cell_height": 61.133331298828125,
        "deepnote_cell_type": "markdown",
        "id": "MhISwri4zAHy"
      },
      "source": [
        "### Importamos librerias utiles y cargamos los datos😸"
      ]
    },
    {
      "cell_type": "code",
      "execution_count": 1,
      "metadata": {
        "id": "xHoq7VBlJoS3",
        "colab": {
          "base_uri": "https://localhost:8080/"
        },
        "outputId": "76a7acf4-bbee-47bc-d2a3-a693abf846be"
      },
      "outputs": [
        {
          "output_type": "stream",
          "name": "stdout",
          "text": [
            "Collecting pyspark\n",
            "  Downloading pyspark-3.5.1.tar.gz (317.0 MB)\n",
            "\u001b[2K     \u001b[90m━━━━━━━━━━━━━━━━━━━━━━━━━━━━━━━━━━━━━━━━\u001b[0m \u001b[32m317.0/317.0 MB\u001b[0m \u001b[31m2.7 MB/s\u001b[0m eta \u001b[36m0:00:00\u001b[0m\n",
            "\u001b[?25h  Preparing metadata (setup.py) ... \u001b[?25l\u001b[?25hdone\n",
            "Requirement already satisfied: py4j==0.10.9.7 in /usr/local/lib/python3.10/dist-packages (from pyspark) (0.10.9.7)\n",
            "Building wheels for collected packages: pyspark\n",
            "  Building wheel for pyspark (setup.py) ... \u001b[?25l\u001b[?25hdone\n",
            "  Created wheel for pyspark: filename=pyspark-3.5.1-py2.py3-none-any.whl size=317488491 sha256=ccf46836e72691de25a6921afd20c3a75db76f27441e5da5d964e0c859785da2\n",
            "  Stored in directory: /root/.cache/pip/wheels/80/1d/60/2c256ed38dddce2fdd93be545214a63e02fbd8d74fb0b7f3a6\n",
            "Successfully built pyspark\n",
            "Installing collected packages: pyspark\n",
            "Successfully installed pyspark-3.5.1\n"
          ]
        }
      ],
      "source": [
        "!pip install pyspark\n",
        "!apt-get install openjdk-8-jdk-headless -qq > /dev/null\n",
        "\n",
        "import os\n",
        "os.environ[\"JAVA_HOME\"] = \"/usr/lib/jvm/java-8-openjdk-amd64\""
      ]
    },
    {
      "cell_type": "code",
      "execution_count": 20,
      "metadata": {
        "id": "M6MKzLmPSHzY",
        "colab": {
          "base_uri": "https://localhost:8080/"
        },
        "outputId": "57afbd44-7c6d-48c4-800e-4540a6896b2f"
      },
      "outputs": [
        {
          "output_type": "stream",
          "name": "stdout",
          "text": [
            "Requirement already satisfied: plotly in /usr/local/lib/python3.10/dist-packages (5.21.0)\n",
            "Requirement already satisfied: tenacity>=6.2.0 in /usr/local/lib/python3.10/dist-packages (from plotly) (8.2.3)\n",
            "Requirement already satisfied: packaging in /usr/local/lib/python3.10/dist-packages (from plotly) (24.0)\n",
            "Requirement already satisfied: missingno in /usr/local/lib/python3.10/dist-packages (0.5.2)\n",
            "Requirement already satisfied: numpy in /usr/local/lib/python3.10/dist-packages (from missingno) (1.25.2)\n",
            "Requirement already satisfied: matplotlib in /usr/local/lib/python3.10/dist-packages (from missingno) (3.7.1)\n",
            "Requirement already satisfied: scipy in /usr/local/lib/python3.10/dist-packages (from missingno) (1.11.4)\n",
            "Requirement already satisfied: seaborn in /usr/local/lib/python3.10/dist-packages (from missingno) (0.13.1)\n",
            "Requirement already satisfied: contourpy>=1.0.1 in /usr/local/lib/python3.10/dist-packages (from matplotlib->missingno) (1.2.1)\n",
            "Requirement already satisfied: cycler>=0.10 in /usr/local/lib/python3.10/dist-packages (from matplotlib->missingno) (0.12.1)\n",
            "Requirement already satisfied: fonttools>=4.22.0 in /usr/local/lib/python3.10/dist-packages (from matplotlib->missingno) (4.51.0)\n",
            "Requirement already satisfied: kiwisolver>=1.0.1 in /usr/local/lib/python3.10/dist-packages (from matplotlib->missingno) (1.4.5)\n",
            "Requirement already satisfied: packaging>=20.0 in /usr/local/lib/python3.10/dist-packages (from matplotlib->missingno) (24.0)\n",
            "Requirement already satisfied: pillow>=6.2.0 in /usr/local/lib/python3.10/dist-packages (from matplotlib->missingno) (9.4.0)\n",
            "Requirement already satisfied: pyparsing>=2.3.1 in /usr/local/lib/python3.10/dist-packages (from matplotlib->missingno) (3.1.2)\n",
            "Requirement already satisfied: python-dateutil>=2.7 in /usr/local/lib/python3.10/dist-packages (from matplotlib->missingno) (2.8.2)\n",
            "Requirement already satisfied: pandas>=1.2 in /usr/local/lib/python3.10/dist-packages (from seaborn->missingno) (2.0.3)\n",
            "Requirement already satisfied: pytz>=2020.1 in /usr/local/lib/python3.10/dist-packages (from pandas>=1.2->seaborn->missingno) (2023.4)\n",
            "Requirement already satisfied: tzdata>=2022.1 in /usr/local/lib/python3.10/dist-packages (from pandas>=1.2->seaborn->missingno) (2024.1)\n",
            "Requirement already satisfied: six>=1.5 in /usr/local/lib/python3.10/dist-packages (from python-dateutil>=2.7->matplotlib->missingno) (1.16.0)\n"
          ]
        }
      ],
      "source": [
        "# Libreria Core del lab.\n",
        "import pyspark\n",
        "from pyspark import SparkConf, SparkContext\n",
        "from pyspark.sql import SparkSession\n",
        "import pandas as pd\n",
        "from pyspark.sql.types import StringType, IntegerType, FloatType\n",
        "from pyspark.sql.functions import col, count, isnull, when\n",
        "\n",
        "\n",
        "#Libreria para plotear\n",
        "!pip install --upgrade plotly\n",
        "!pip install missingno\n",
        "import matplotlib.pyplot as plt\n",
        "import plotly.express as px"
      ]
    },
    {
      "cell_type": "markdown",
      "metadata": {
        "id": "9vJWSlEXYBqq"
      },
      "source": [
        "Cargue los datos usando **pyspark**"
      ]
    },
    {
      "cell_type": "code",
      "execution_count": 3,
      "metadata": {
        "id": "i9Uf-BTZXqXe",
        "colab": {
          "base_uri": "https://localhost:8080/",
          "height": 107
        },
        "outputId": "e2ff8103-6260-47e3-aa1f-2f0f4a6135bd"
      },
      "outputs": [
        {
          "output_type": "display_data",
          "data": {
            "text/plain": [
              "<IPython.core.display.HTML object>"
            ],
            "text/html": [
              "\n",
              "     <input type=\"file\" id=\"files-a7e18104-7875-4f26-a0a0-4ed0598d4f52\" name=\"files[]\" multiple disabled\n",
              "        style=\"border:none\" />\n",
              "     <output id=\"result-a7e18104-7875-4f26-a0a0-4ed0598d4f52\">\n",
              "      Upload widget is only available when the cell has been executed in the\n",
              "      current browser session. Please rerun this cell to enable.\n",
              "      </output>\n",
              "      <script>// Copyright 2017 Google LLC\n",
              "//\n",
              "// Licensed under the Apache License, Version 2.0 (the \"License\");\n",
              "// you may not use this file except in compliance with the License.\n",
              "// You may obtain a copy of the License at\n",
              "//\n",
              "//      http://www.apache.org/licenses/LICENSE-2.0\n",
              "//\n",
              "// Unless required by applicable law or agreed to in writing, software\n",
              "// distributed under the License is distributed on an \"AS IS\" BASIS,\n",
              "// WITHOUT WARRANTIES OR CONDITIONS OF ANY KIND, either express or implied.\n",
              "// See the License for the specific language governing permissions and\n",
              "// limitations under the License.\n",
              "\n",
              "/**\n",
              " * @fileoverview Helpers for google.colab Python module.\n",
              " */\n",
              "(function(scope) {\n",
              "function span(text, styleAttributes = {}) {\n",
              "  const element = document.createElement('span');\n",
              "  element.textContent = text;\n",
              "  for (const key of Object.keys(styleAttributes)) {\n",
              "    element.style[key] = styleAttributes[key];\n",
              "  }\n",
              "  return element;\n",
              "}\n",
              "\n",
              "// Max number of bytes which will be uploaded at a time.\n",
              "const MAX_PAYLOAD_SIZE = 100 * 1024;\n",
              "\n",
              "function _uploadFiles(inputId, outputId) {\n",
              "  const steps = uploadFilesStep(inputId, outputId);\n",
              "  const outputElement = document.getElementById(outputId);\n",
              "  // Cache steps on the outputElement to make it available for the next call\n",
              "  // to uploadFilesContinue from Python.\n",
              "  outputElement.steps = steps;\n",
              "\n",
              "  return _uploadFilesContinue(outputId);\n",
              "}\n",
              "\n",
              "// This is roughly an async generator (not supported in the browser yet),\n",
              "// where there are multiple asynchronous steps and the Python side is going\n",
              "// to poll for completion of each step.\n",
              "// This uses a Promise to block the python side on completion of each step,\n",
              "// then passes the result of the previous step as the input to the next step.\n",
              "function _uploadFilesContinue(outputId) {\n",
              "  const outputElement = document.getElementById(outputId);\n",
              "  const steps = outputElement.steps;\n",
              "\n",
              "  const next = steps.next(outputElement.lastPromiseValue);\n",
              "  return Promise.resolve(next.value.promise).then((value) => {\n",
              "    // Cache the last promise value to make it available to the next\n",
              "    // step of the generator.\n",
              "    outputElement.lastPromiseValue = value;\n",
              "    return next.value.response;\n",
              "  });\n",
              "}\n",
              "\n",
              "/**\n",
              " * Generator function which is called between each async step of the upload\n",
              " * process.\n",
              " * @param {string} inputId Element ID of the input file picker element.\n",
              " * @param {string} outputId Element ID of the output display.\n",
              " * @return {!Iterable<!Object>} Iterable of next steps.\n",
              " */\n",
              "function* uploadFilesStep(inputId, outputId) {\n",
              "  const inputElement = document.getElementById(inputId);\n",
              "  inputElement.disabled = false;\n",
              "\n",
              "  const outputElement = document.getElementById(outputId);\n",
              "  outputElement.innerHTML = '';\n",
              "\n",
              "  const pickedPromise = new Promise((resolve) => {\n",
              "    inputElement.addEventListener('change', (e) => {\n",
              "      resolve(e.target.files);\n",
              "    });\n",
              "  });\n",
              "\n",
              "  const cancel = document.createElement('button');\n",
              "  inputElement.parentElement.appendChild(cancel);\n",
              "  cancel.textContent = 'Cancel upload';\n",
              "  const cancelPromise = new Promise((resolve) => {\n",
              "    cancel.onclick = () => {\n",
              "      resolve(null);\n",
              "    };\n",
              "  });\n",
              "\n",
              "  // Wait for the user to pick the files.\n",
              "  const files = yield {\n",
              "    promise: Promise.race([pickedPromise, cancelPromise]),\n",
              "    response: {\n",
              "      action: 'starting',\n",
              "    }\n",
              "  };\n",
              "\n",
              "  cancel.remove();\n",
              "\n",
              "  // Disable the input element since further picks are not allowed.\n",
              "  inputElement.disabled = true;\n",
              "\n",
              "  if (!files) {\n",
              "    return {\n",
              "      response: {\n",
              "        action: 'complete',\n",
              "      }\n",
              "    };\n",
              "  }\n",
              "\n",
              "  for (const file of files) {\n",
              "    const li = document.createElement('li');\n",
              "    li.append(span(file.name, {fontWeight: 'bold'}));\n",
              "    li.append(span(\n",
              "        `(${file.type || 'n/a'}) - ${file.size} bytes, ` +\n",
              "        `last modified: ${\n",
              "            file.lastModifiedDate ? file.lastModifiedDate.toLocaleDateString() :\n",
              "                                    'n/a'} - `));\n",
              "    const percent = span('0% done');\n",
              "    li.appendChild(percent);\n",
              "\n",
              "    outputElement.appendChild(li);\n",
              "\n",
              "    const fileDataPromise = new Promise((resolve) => {\n",
              "      const reader = new FileReader();\n",
              "      reader.onload = (e) => {\n",
              "        resolve(e.target.result);\n",
              "      };\n",
              "      reader.readAsArrayBuffer(file);\n",
              "    });\n",
              "    // Wait for the data to be ready.\n",
              "    let fileData = yield {\n",
              "      promise: fileDataPromise,\n",
              "      response: {\n",
              "        action: 'continue',\n",
              "      }\n",
              "    };\n",
              "\n",
              "    // Use a chunked sending to avoid message size limits. See b/62115660.\n",
              "    let position = 0;\n",
              "    do {\n",
              "      const length = Math.min(fileData.byteLength - position, MAX_PAYLOAD_SIZE);\n",
              "      const chunk = new Uint8Array(fileData, position, length);\n",
              "      position += length;\n",
              "\n",
              "      const base64 = btoa(String.fromCharCode.apply(null, chunk));\n",
              "      yield {\n",
              "        response: {\n",
              "          action: 'append',\n",
              "          file: file.name,\n",
              "          data: base64,\n",
              "        },\n",
              "      };\n",
              "\n",
              "      let percentDone = fileData.byteLength === 0 ?\n",
              "          100 :\n",
              "          Math.round((position / fileData.byteLength) * 100);\n",
              "      percent.textContent = `${percentDone}% done`;\n",
              "\n",
              "    } while (position < fileData.byteLength);\n",
              "  }\n",
              "\n",
              "  // All done.\n",
              "  yield {\n",
              "    response: {\n",
              "      action: 'complete',\n",
              "    }\n",
              "  };\n",
              "}\n",
              "\n",
              "scope.google = scope.google || {};\n",
              "scope.google.colab = scope.google.colab || {};\n",
              "scope.google.colab._files = {\n",
              "  _uploadFiles,\n",
              "  _uploadFilesContinue,\n",
              "};\n",
              "})(self);\n",
              "</script> "
            ]
          },
          "metadata": {}
        },
        {
          "output_type": "stream",
          "name": "stdout",
          "text": [
            "Saving datos_lab_spark.parquet to datos_lab_spark.parquet\n",
            "Saving object.pkl to object.pkl\n"
          ]
        }
      ],
      "source": [
        "#subimos archivos:\n",
        "#   -datos_lab_spark.parquet\n",
        "#   -object.pkl\n",
        "from google.colab import files\n",
        "\n",
        "uploaded = files.upload()"
      ]
    },
    {
      "cell_type": "code",
      "source": [
        "parquet_name = \"datos_lab_spark.parquet\"\n",
        "pkl_name = \"object.pkl\""
      ],
      "metadata": {
        "id": "tdEeXtuj56oM"
      },
      "execution_count": 4,
      "outputs": []
    },
    {
      "cell_type": "code",
      "source": [
        "spark = SparkSession.builder \\\n",
        "    .appName(\"Lab4\") \\\n",
        "    .getOrCreate()\n",
        "\n",
        "df0 = spark.read.parquet(parquet_name)\n",
        "\n"
      ],
      "metadata": {
        "id": "CBtGP2zr4wzP"
      },
      "execution_count": 23,
      "outputs": []
    },
    {
      "cell_type": "code",
      "source": [
        "import pickle\n",
        "with open(pkl_name, \"rb\") as f:\n",
        "    obj = pickle.load(f)"
      ],
      "metadata": {
        "id": "Mol7YBMe6xcA"
      },
      "execution_count": 12,
      "outputs": []
    },
    {
      "cell_type": "markdown",
      "metadata": {
        "id": "z6l6GNynYnh4"
      },
      "source": [
        "### 2. Limpieza con pyspark [8 puntos]\n",
        "(1 punto por pregunta)"
      ]
    },
    {
      "cell_type": "markdown",
      "metadata": {
        "id": "8DVdjYyOGRom"
      },
      "source": [
        "<center>\n",
        "<img src=\"https://miro.medium.com/v2/resize:fit:600/1*A6PpTrehGLxCJWNcUsDTNg.jpeg\" width=350 />\n",
        "\n"
      ]
    },
    {
      "cell_type": "markdown",
      "metadata": {
        "id": "sPGV40BjZekP"
      },
      "source": [
        "Para comenzar con el análisis exploratorio usted decide empezar limpiando la base de datos con **pyspark** dado el alto volumen de datos que genera diariamente Bodoque E-Shop.\n",
        "\n",
        "**Nota: NO SE PERMITE EL USO DE PANDAS EN ESTA SECCIÓN**\n",
        "\n",
        "\n",
        "\n",
        "1.   Utilice `.printSchema()` para revisar la estructura de los datos\n",
        "2.   Muestre las primeras 10 filas del dataset. Hint: utilice `.show()`\n",
        "3.   Imprima un muestreo aleatorio con el 5% de los datos diponibles. . Hint: utilice `.sample()`\n",
        "4. Revise los tipos de datos de cada columna con `.dtypes()` y responda la siguiente pregunta: ¿Cuál/es columna/s tiene/n un tipo de dato que no es el adecuado y por qué?\n",
        "5. Complete el código entregado para cambiar el tipo de datos para la/s columna/s problemáticas.\n",
        "6. Cuente la cantidad de datos nulos por variable. Recuerde que Spark no posee un método que le permita calcular directamente los nulos.\n",
        "7. Elimine datos nulos.\n",
        "8. Elimine datos duplicados.\n"
      ]
    },
    {
      "cell_type": "code",
      "execution_count": 25,
      "metadata": {
        "id": "nw95Jvr-DtwS",
        "colab": {
          "base_uri": "https://localhost:8080/"
        },
        "outputId": "80bfc1cd-18ac-4ba0-c67f-d0d804870e26"
      },
      "outputs": [
        {
          "output_type": "stream",
          "name": "stdout",
          "text": [
            "\n",
            "1. IMPRIMIR SCHEMA:\n",
            "\n",
            "root\n",
            " |-- Transaction ID: string (nullable = true)\n",
            " |-- Customer ID: string (nullable = true)\n",
            " |-- Transaction Amount: double (nullable = true)\n",
            " |-- Transaction Date: timestamp_ntz (nullable = true)\n",
            " |-- Payment Method: string (nullable = true)\n",
            " |-- Product Category: string (nullable = true)\n",
            " |-- Quantity: double (nullable = true)\n",
            " |-- Customer Age: double (nullable = true)\n",
            " |-- Customer Location: string (nullable = true)\n",
            " |-- Device Used: string (nullable = true)\n",
            " |-- IP Address: string (nullable = true)\n",
            " |-- Shipping Address: string (nullable = true)\n",
            " |-- Billing Address: string (nullable = true)\n",
            " |-- Is An Alien: double (nullable = true)\n",
            " |-- Account Age Days: double (nullable = true)\n",
            " |-- Transaction Hour: double (nullable = true)\n",
            "\n",
            "\n",
            "2. MOSTRAR 10 PRIMERAS FILAS:\n",
            "\n",
            "+--------------------+--------------------+------------------+-------------------+--------------+----------------+--------+------------+-----------------+-----------+---------------+--------------------+--------------------+-----------+----------------+----------------+\n",
            "|      Transaction ID|         Customer ID|Transaction Amount|   Transaction Date|Payment Method|Product Category|Quantity|Customer Age|Customer Location|Device Used|     IP Address|    Shipping Address|     Billing Address|Is An Alien|Account Age Days|Transaction Hour|\n",
            "+--------------------+--------------------+------------------+-------------------+--------------+----------------+--------+------------+-----------------+-----------+---------------+--------------------+--------------------+-----------+----------------+----------------+\n",
            "|4b4a5fe1-ec4d-4f9...|d1b87f62-51b2-493...|             58.09|2022-03-24 00:00:00| bank transfer|     electronics|     1.0|        17.0|    Amandaborough|       NULL| 212.195.49.198|Unit 8934 Box 005...|Unit 8934 Box 005...|        0.0|            NULL|             5.0|\n",
            "|bacd9392-73ce-481...|37de64d5-e901-4a5...|            389.96|2023-01-17 00:00:00|    debit card|     electronics|     2.0|        40.0|     East Timothy|    desktop|208.106.249.121|634 May Keys\\nPor...|634 May Keys\\nPor...|        0.0|            72.0|             8.0|\n",
            "|d936a024-3a1d-40d...|1bac88d6-4b22-409...|            134.19|2023-06-01 00:00:00|        PayPal|   home & garden|     2.0|        22.0|       Davismouth|     tablet|   76.63.88.212|                NULL|16282 Dana Falls ...|        0.0|            63.0|            NULL|\n",
            "|a30aaab5-4042-4b8...|2357c76e-9253-4ce...|            226.17|2019-07-02 00:00:00| bank transfer|        clothing|     5.0|        31.0|         Lynnberg|    desktop| 207.208.171.73|828 Strong Loaf A...|828 Strong Loaf A...|        0.0|           124.0|            20.0|\n",
            "|b0634f43-d07d-4ca...|45071bc5-9588-43e...|            121.53|2020-10-26 00:00:00| bank transfer|        clothing|     2.0|        51.0|             NULL|       NULL| 190.172.14.169|29799 Jason Hills...|29799 Jason Hills...|        0.0|           158.0|            NULL|\n",
            "|8c4711b8-7477-421...|29616b04-2d5c-472...|            166.41|2019-06-10 00:00:00| bank transfer|    toys & games|    NULL|        34.0|     Herreramouth|     tablet|           NULL|5699 Brittany Vil...|120 Kristi Dale\\n...|       NULL|            38.0|            10.0|\n",
            "|fd0342fe-6b16-4a3...|fe21ae29-ba4c-424...|             92.88|2020-10-09 00:00:00|        PayPal|    toys & games|     2.0|        14.0|        Ramosfort|     tablet|   13.45.27.192|                NULL|727 Gibson Island...|        0.0|           119.0|            19.0|\n",
            "|2d7299de-355b-479...|024257c3-5671-4de...|            318.14|2021-10-09 00:00:00|   credit card| health & beauty|     4.0|        42.0|             NULL|    desktop|131.141.230.185|3914 Davis Union\\...|                NULL|        0.0|           251.0|            NULL|\n",
            "|de51c9df-ab52-43a...|                NULL|              NULL|2019-03-22 00:00:00| bank transfer|   home & garden|    NULL|        38.0|       Carneyfurt|       NULL|           NULL|47893 Maldonado S...|                NULL|        0.0|           190.0|            19.0|\n",
            "|                NULL|aab93e75-582f-445...|            121.78|2022-02-28 00:00:00| bank transfer| health & beauty|     4.0|        39.0|       Brockburgh|     mobile| 174.32.252.238|2334 Briana Cente...|2334 Briana Cente...|        0.0|           343.0|            NULL|\n",
            "+--------------------+--------------------+------------------+-------------------+--------------+----------------+--------+------------+-----------------+-----------+---------------+--------------------+--------------------+-----------+----------------+----------------+\n",
            "only showing top 10 rows\n",
            "\n",
            "\n",
            "3. MUESTREO ALEATORIO DE 5% DE LOS DATOS:\n",
            "\n",
            "+--------------------+--------------------+------------------+-------------------+--------------+----------------+--------+------------+-------------------+-----------+---------------+--------------------+--------------------+-----------+----------------+----------------+\n",
            "|      Transaction ID|         Customer ID|Transaction Amount|   Transaction Date|Payment Method|Product Category|Quantity|Customer Age|  Customer Location|Device Used|     IP Address|    Shipping Address|     Billing Address|Is An Alien|Account Age Days|Transaction Hour|\n",
            "+--------------------+--------------------+------------------+-------------------+--------------+----------------+--------+------------+-------------------+-----------+---------------+--------------------+--------------------+-----------+----------------+----------------+\n",
            "|a93649c4-0d70-49d...|a30a5030-1c23-475...|             56.31|2024-02-15 00:00:00|        PayPal|            NULL|     3.0|        35.0|       West Michael|     tablet|           NULL|3684 Morris Inlet...|3684 Morris Inlet...|       NULL|            NULL|            NULL|\n",
            "|                NULL|339683a0-3028-449...|            475.76|2023-09-04 00:00:00|        PayPal|            NULL|     2.0|        29.0|        Muellerstad|     mobile|  196.101.90.48|3496 Jason Ports\\...|3496 Jason Ports\\...|       NULL|           143.0|            10.0|\n",
            "|836b49d7-fdf3-41a...|82563528-49f7-480...|            153.05|2022-10-18 00:00:00|    debit card|     electronics|     3.0|        27.0|               NULL|     mobile|  94.151.244.55|0554 Stephen Radi...|0554 Stephen Radi...|        0.0|            NULL|             3.0|\n",
            "|16c67e99-672c-436...|                NULL|             32.15|2022-02-17 00:00:00|    debit card|        clothing|     4.0|        35.0|North Jennifershire|     mobile|102.183.199.225|970 Jimenez Exten...|970 Jimenez Exten...|        0.0|           194.0|            21.0|\n",
            "|76910de5-73cd-4e5...|6e1f132a-30ed-428...|            147.29|2018-05-15 00:00:00|    debit card|            NULL|     3.0|        23.0|         Mooreville|     tablet| 183.160.14.147|3225 Tyler Plaza ...|3225 Tyler Plaza ...|        0.0|           132.0|            19.0|\n",
            "|facb3132-b14d-418...|e68e69e4-62d2-43a...|            116.96|               NULL|    debit card|            NULL|     3.0|        20.0|           Lisastad|     tablet|   167.93.7.102|407 House Plaza S...|407 House Plaza S...|        0.0|            93.0|            18.0|\n",
            "|377ce7ed-0f0b-49c...|765e8076-ab50-457...|            186.28|2020-11-14 00:00:00|   credit card| health & beauty|     4.0|        39.0|               NULL|     tablet|  190.83.210.73|79356 Robbins Vie...|79356 Robbins Vie...|       NULL|           354.0|            NULL|\n",
            "|0b9d2f44-7511-4ac...|58e740ea-67f2-4e5...|              NULL|2023-01-24 00:00:00|          NULL| health & beauty|     2.0|        46.0|       Mccarthytown|     tablet|  46.73.189.184|2733 Sean Wells S...|2733 Sean Wells S...|        0.0|            NULL|             1.0|\n",
            "|50826bba-2127-40c...|                NULL|            134.73|2018-03-15 00:00:00| bank transfer| health & beauty|     2.0|        NULL|        East Amanda|    desktop| 74.174.105.142|7315 Cohen Ports ...|7315 Cohen Ports ...|        0.0|            NULL|            14.0|\n",
            "|af0b2a34-b0c2-4be...|7e61dfe7-b1f8-42c...|            2038.0|2019-10-10 00:00:00|   credit card|            NULL|     1.0|        32.0|     Stricklandview|       NULL|  54.172.17.233|USS Ramirez\\nFPO ...|42574 Katherine F...|       NULL|            NULL|            17.0|\n",
            "|a6205ae9-aa53-473...|                NULL|             72.09|2018-12-14 00:00:00|    debit card|            NULL|    NULL|        21.0|               NULL|       NULL|           NULL|669 Patrick Squar...|669 Patrick Squar...|        0.0|            NULL|            16.0|\n",
            "|23cddc18-538a-426...|d2258aa0-0b42-4fd...|            200.77|2018-08-22 00:00:00|    debit card| health & beauty|     4.0|        14.0|           Johntown|    desktop| 102.89.195.168|330 Jamie Lock Ap...|                NULL|       NULL|           250.0|            21.0|\n",
            "|58e6fde6-eef4-43d...|1d4d1bc3-bb8c-445...|             19.06|2019-04-20 00:00:00| bank transfer| health & beauty|    NULL|        34.0| South Jenniferport|       NULL|  167.65.126.11|842 Tracy Loop Ap...|842 Tracy Loop Ap...|        0.0|           219.0|             7.0|\n",
            "|6fb11e1a-795f-49a...|                NULL|            428.52|2018-06-26 00:00:00|        PayPal|            NULL|     4.0|        38.0|       North George|     tablet|119.237.136.240|30747 Kane Plaza\\...|                NULL|       NULL|           130.0|            14.0|\n",
            "|f2468a5b-0eed-477...|                NULL|            126.67|2023-10-18 00:00:00| bank transfer| health & beauty|    NULL|        35.0|               NULL|       NULL|     6.91.80.13|                NULL|10805 Matthew Inl...|        0.0|           345.0|            10.0|\n",
            "|987d14d7-4fd8-497...|d715916c-5976-4f2...|            108.03|2018-05-24 00:00:00| bank transfer|            NULL|     3.0|        27.0|      East Mikeberg|     mobile|  129.79.69.148|70930 Jefferson C...|70930 Jefferson C...|        0.0|           174.0|            15.0|\n",
            "|46fb0d6b-0083-4c8...|                NULL|              NULL|               NULL| bank transfer| health & beauty|     3.0|        40.0|        New Preston|     tablet|  220.62.31.234|83490 Murphy High...|83490 Murphy High...|        0.0|            NULL|            14.0|\n",
            "|53c126cc-53c1-4d5...|                NULL|             80.08|2024-04-21 00:00:00|    debit card|            NULL|     3.0|        NULL|       West Clayton|    desktop|  15.145.179.75|505 Weaver Glens\\...|505 Weaver Glens\\...|        0.0|           233.0|             0.0|\n",
            "|5c08f7a3-a598-489...|6752b331-eafb-41f...|            661.66|2022-07-26 00:00:00| bank transfer|    toys & games|     5.0|        NULL|       Gregoryville|     mobile|           NULL|                NULL|891 Day Plains Su...|       NULL|            NULL|             6.0|\n",
            "|5d3104bb-91a2-451...|70a981ce-893c-4f4...|            130.82|2020-06-23 00:00:00|   credit card|        clothing|    NULL|        40.0|     New Olivialand|    desktop|           NULL|638 Mcclure Dam A...|638 Mcclure Dam A...|        0.0|           132.0|            NULL|\n",
            "+--------------------+--------------------+------------------+-------------------+--------------+----------------+--------+------------+-------------------+-----------+---------------+--------------------+--------------------+-----------+----------------+----------------+\n",
            "only showing top 20 rows\n",
            "\n",
            "\n",
            "4. TIPOS DE DATOS POR COLUMNA:\n",
            "\n",
            "Transaction ID - string\n",
            "Customer ID - string\n",
            "Transaction Amount - double\n",
            "Transaction Date - timestamp_ntz\n",
            "Payment Method - string\n",
            "Product Category - string\n",
            "Quantity - double\n",
            "Customer Age - double\n",
            "Customer Location - string\n",
            "Device Used - string\n",
            "IP Address - string\n",
            "Shipping Address - string\n",
            "Billing Address - string\n",
            "Is An Alien - double\n",
            "Account Age Days - double\n",
            "Transaction Hour - double\n"
          ]
        }
      ],
      "source": [
        "df = df0 #reseteamos df\n",
        "print(\"\\n1. IMPRIMIR SCHEMA:\\n\")\n",
        "df.printSchema()\n",
        "\n",
        "print(\"\\n2. MOSTRAR 10 PRIMERAS FILAS:\\n\")\n",
        "df.show(10)\n",
        "\n",
        "print(\"\\n3. MUESTREO ALEATORIO DE 5% DE LOS DATOS:\\n\")\n",
        "df.sample(withReplacement=False, fraction=0.05).show()\n",
        "\n",
        "\n",
        "print(\"\\n4. TIPOS DE DATOS POR COLUMNA:\\n\")\n",
        "for c, t in df.dtypes:\n",
        "  print(f\"{c} - {t}\")"
      ]
    },
    {
      "cell_type": "code",
      "source": [
        "#La columna \"Ia An Alien\" debería tener como tipo de datos boolean.\n",
        "print(\"\\n5. CAMBIAR TIPO DE DATOS PARA COLUMNA PROBLEMÄTICA:\\n\")\n",
        "df = df.withColumn(\"Is An Alien\", col(\"Is An Alien\").cast(\"boolean\"))\n",
        "for c, t in df.dtypes:\n",
        "  print(f\"{c} - {t}\")"
      ],
      "metadata": {
        "colab": {
          "base_uri": "https://localhost:8080/"
        },
        "id": "PMe04UtP8nZQ",
        "outputId": "b73dfe51-5630-4c64-fb08-fe83e971ec7c"
      },
      "execution_count": 26,
      "outputs": [
        {
          "output_type": "stream",
          "name": "stdout",
          "text": [
            "\n",
            "5. CAMBIAR TIPO DE DATOS PARA COLUMNA PROBLEMÄTICA:\n",
            "\n",
            "Transaction ID - string\n",
            "Customer ID - string\n",
            "Transaction Amount - double\n",
            "Transaction Date - timestamp_ntz\n",
            "Payment Method - string\n",
            "Product Category - string\n",
            "Quantity - double\n",
            "Customer Age - double\n",
            "Customer Location - string\n",
            "Device Used - string\n",
            "IP Address - string\n",
            "Shipping Address - string\n",
            "Billing Address - string\n",
            "Is An Alien - boolean\n",
            "Account Age Days - double\n",
            "Transaction Hour - double\n"
          ]
        }
      ]
    },
    {
      "cell_type": "code",
      "source": [
        "print(\"\\n6. NULOS POR VARIABLE:\\n\")\n",
        "df.select([count(when(isnull(c), c)).alias(c) for c in df.columns]).show()\n",
        "\n",
        "print(\"\\n7. ELIMINAR NULOS:\\n\")\n",
        "df = df.dropna()\n",
        "df.select([count(when(isnull(c), c)).alias(c) for c in df.columns]).show()\n",
        "\n",
        "print(\"\\n8. ELIMINAR DUPLICADOS:\\n\")\n",
        "df = df.dropDuplicates()\n",
        "df.groupBy(df.columns).count().filter(col(\"count\") > 1).show()"
      ],
      "metadata": {
        "colab": {
          "base_uri": "https://localhost:8080/"
        },
        "id": "flPmRPMW8noV",
        "outputId": "4cfe5b07-d78d-4b06-f3cb-55dd19533d74"
      },
      "execution_count": 27,
      "outputs": [
        {
          "output_type": "stream",
          "name": "stdout",
          "text": [
            "\n",
            "6. NULOS POR VARIABLE:\n",
            "\n",
            "+--------------+-----------+------------------+----------------+--------------+----------------+--------+------------+-----------------+-----------+----------+----------------+---------------+-----------+----------------+----------------+\n",
            "|Transaction ID|Customer ID|Transaction Amount|Transaction Date|Payment Method|Product Category|Quantity|Customer Age|Customer Location|Device Used|IP Address|Shipping Address|Billing Address|Is An Alien|Account Age Days|Transaction Hour|\n",
            "+--------------+-----------+------------------+----------------+--------------+----------------+--------+------------+-----------------+-----------+----------+----------------+---------------+-----------+----------------+----------------+\n",
            "|        126886|     126847|            126840|          126831|        126877|          126814|  126966|      126826|           126781|     126911|    126929|          126734|         126804|     126828|          126886|          126953|\n",
            "+--------------+-----------+------------------+----------------+--------------+----------------+--------+------------+-----------------+-----------+----------+----------------+---------------+-----------+----------------+----------------+\n",
            "\n",
            "\n",
            "7. ELIMINAR NULOS:\n",
            "\n",
            "+--------------+-----------+------------------+----------------+--------------+----------------+--------+------------+-----------------+-----------+----------+----------------+---------------+-----------+----------------+----------------+\n",
            "|Transaction ID|Customer ID|Transaction Amount|Transaction Date|Payment Method|Product Category|Quantity|Customer Age|Customer Location|Device Used|IP Address|Shipping Address|Billing Address|Is An Alien|Account Age Days|Transaction Hour|\n",
            "+--------------+-----------+------------------+----------------+--------------+----------------+--------+------------+-----------------+-----------+----------+----------------+---------------+-----------+----------------+----------------+\n",
            "|             0|          0|                 0|               0|             0|               0|       0|           0|                0|          0|         0|               0|              0|          0|               0|               0|\n",
            "+--------------+-----------+------------------+----------------+--------------+----------------+--------+------------+-----------------+-----------+----------+----------------+---------------+-----------+----------------+----------------+\n",
            "\n",
            "\n",
            "8. ELIMINAR DUPLICADOS:\n",
            "\n",
            "+--------------+-----------+------------------+----------------+--------------+----------------+--------+------------+-----------------+-----------+----------+----------------+---------------+-----------+----------------+----------------+-----+\n",
            "|Transaction ID|Customer ID|Transaction Amount|Transaction Date|Payment Method|Product Category|Quantity|Customer Age|Customer Location|Device Used|IP Address|Shipping Address|Billing Address|Is An Alien|Account Age Days|Transaction Hour|count|\n",
            "+--------------+-----------+------------------+----------------+--------------+----------------+--------+------------+-----------------+-----------+----------+----------------+---------------+-----------+----------------+----------------+-----+\n",
            "+--------------+-----------+------------------+----------------+--------------+----------------+--------+------------+-----------------+-----------+----------+----------------+---------------+-----------+----------------+----------------+-----+\n",
            "\n"
          ]
        }
      ]
    },
    {
      "cell_type": "markdown",
      "metadata": {
        "id": "MjxI2Xd6cRu1"
      },
      "source": [
        "### 3. Transformaciones con pyspark [6 puntos]\n",
        "(1 punto por pregunta)"
      ]
    },
    {
      "cell_type": "markdown",
      "metadata": {
        "id": "bPfhWPZeHXUH"
      },
      "source": [
        "<center>\n",
        "<img src=\"https://live.staticflickr.com/13/91801406_0e71d7f019_b.jpg\" width=350 />\n",
        "\n"
      ]
    },
    {
      "cell_type": "markdown",
      "metadata": {
        "id": "lbIDKn44cWhI"
      },
      "source": [
        "**Nota: NO SE PERMITE EL USO DE PANDAS EN ESTA SECCIÓN**\n",
        "\n",
        "Para continuar con el análisis, los especistas de Bodoque les gustaría tener nuevas variables disponibles. Tras las notas de la reunión usted llega a la conclusión de que tiene que realizar las siguientes tareas (con el dataset preprocesado de la seccion anterior):\n",
        "\n",
        "\n",
        "1.   Agregar una columna llamada \"Transaction bp\" con el **monto total** de la transacción en bodoque pesos. Se considera que $x$ dólares equivalen a $log(48+|x^{36}|)$ bodoque pesos.\n",
        "2.   Crear una columna llamada \"Transaction Month\" con el mes en que se realiza una transacción.\n",
        "3.   Crear la variable *Type of purchase* según la catidad de unidades vendidas de acuerdo a las siguientes categorías.\n",
        "  * Compra minorista: 5 productos o menos.\n",
        "  * Compra mayorista: 6 produtos o más.\n",
        "4. Imprima los registros de compras hechas por alienígenas en el comecio mayorista.  Utilice `.filter()`.\n",
        "5. Cuente la cantidad de compras realizadas por humanos y la cantidad de compras realizadas por alienígenas. Utilice `.groupby()`.\n",
        "6. Muestre una tabla con la recaudación promedio por transacción para cada método de pago, tanto para humanos como alienígenas. Utilice `pivot()`."
      ]
    },
    {
      "cell_type": "code",
      "execution_count": 31,
      "metadata": {
        "id": "cbtFJi3mHnkK",
        "colab": {
          "base_uri": "https://localhost:8080/"
        },
        "outputId": "c16b40ad-b8c4-4583-b4ab-fb204262d93b"
      },
      "outputs": [
        {
          "output_type": "stream",
          "name": "stdout",
          "text": [
            "1. Transaction bp\n",
            "\n",
            "+------------------+------------------+\n",
            "|Transaction Amount|    Transaction_bp|\n",
            "+------------------+------------------+\n",
            "|            132.82| 8.482502362826223|\n",
            "|            174.29| 8.751860488582128|\n",
            "|            177.31| 8.768910205315343|\n",
            "|            218.64| 8.977025265340476|\n",
            "|            106.16|  8.26094776859691|\n",
            "|            130.04| 8.461562081242274|\n",
            "|             134.6| 8.495683507928355|\n",
            "|             73.72| 7.901717910383827|\n",
            "|            349.17| 9.442889155109023|\n",
            "|            168.89| 8.720630238814268|\n",
            "|             68.89| 7.835199577926379|\n",
            "|             78.92|  7.96870723646757|\n",
            "|            127.56| 8.442504127384405|\n",
            "|            431.97| 9.654956960071837|\n",
            "|           2448.15| 11.38715133540191|\n",
            "|            144.02| 8.562686498347903|\n",
            "|             35.63| 7.193445368753125|\n",
            "|             51.63| 7.553118788688276|\n",
            "|            626.97|10.026542003172175|\n",
            "|            564.25| 9.921376585371869|\n",
            "+------------------+------------------+\n",
            "only showing top 20 rows\n",
            "\n",
            "\n",
            "2. Transaction Month\n",
            "\n",
            "+-------------------+-----------------+\n",
            "|   Transaction Date|Transaction_Month|\n",
            "+-------------------+-----------------+\n",
            "|2020-07-29 00:00:00|                7|\n",
            "|2019-10-26 00:00:00|               10|\n",
            "|2020-12-17 00:00:00|               12|\n",
            "|2024-10-20 00:00:00|               10|\n",
            "|2022-12-30 00:00:00|               12|\n",
            "|2023-11-19 00:00:00|               11|\n",
            "|2023-08-30 00:00:00|                8|\n",
            "|2019-10-17 00:00:00|               10|\n",
            "|2022-01-29 00:00:00|                1|\n",
            "|2022-01-12 00:00:00|                1|\n",
            "|2018-11-09 00:00:00|               11|\n",
            "|2020-04-05 00:00:00|                4|\n",
            "|2020-11-06 00:00:00|               11|\n",
            "|2021-02-26 00:00:00|                2|\n",
            "|2024-04-19 00:00:00|                4|\n",
            "|2023-05-10 00:00:00|                5|\n",
            "|2020-08-25 00:00:00|                8|\n",
            "|2018-12-17 00:00:00|               12|\n",
            "|2022-02-03 00:00:00|                2|\n",
            "|2022-09-16 00:00:00|                9|\n",
            "+-------------------+-----------------+\n",
            "only showing top 20 rows\n",
            "\n",
            "\n",
            "3.Type of purchase\n",
            "\n",
            "+----------------+\n",
            "|Type_of_purchase|\n",
            "+----------------+\n",
            "|Compra minorista|\n",
            "|Compra minorista|\n",
            "|Compra minorista|\n",
            "|Compra minorista|\n",
            "|Compra minorista|\n",
            "|Compra minorista|\n",
            "|Compra minorista|\n",
            "|Compra minorista|\n",
            "|Compra minorista|\n",
            "|Compra minorista|\n",
            "|Compra minorista|\n",
            "|Compra minorista|\n",
            "|Compra minorista|\n",
            "|Compra minorista|\n",
            "|Compra minorista|\n",
            "|Compra minorista|\n",
            "|Compra minorista|\n",
            "|Compra minorista|\n",
            "|Compra minorista|\n",
            "|Compra minorista|\n",
            "+----------------+\n",
            "only showing top 20 rows\n",
            "\n",
            "\n",
            "4.  Compras Alienigenas Mayoristas\n",
            "\n",
            "+--------------+-----------+------------------+----------------+--------------+----------------+--------+------------+-----------------+-----------+----------+----------------+---------------+-----------+----------------+----------------+--------------+-----------------+----------------+\n",
            "|Transaction ID|Customer ID|Transaction Amount|Transaction Date|Payment Method|Product Category|Quantity|Customer Age|Customer Location|Device Used|IP Address|Shipping Address|Billing Address|Is An Alien|Account Age Days|Transaction Hour|Transaction_bp|Transaction_Month|Type_of_purchase|\n",
            "+--------------+-----------+------------------+----------------+--------------+----------------+--------+------------+-----------------+-----------+----------+----------------+---------------+-----------+----------------+----------------+--------------+-----------------+----------------+\n",
            "+--------------+-----------+------------------+----------------+--------------+----------------+--------+------------+-----------------+-----------+----------+----------------+---------------+-----------+----------------+----------------+--------------+-----------------+----------------+\n",
            "\n",
            "\n",
            "5.  Compras humanas\n",
            "\n",
            "+-----------+-------------------+\n",
            "|Is An Alien|Cantidad_de_compras|\n",
            "+-----------+-------------------+\n",
            "|       true|                688|\n",
            "|      false|              12700|\n",
            "+-----------+-------------------+\n",
            "\n",
            "\n",
            "6- Recaudación\n",
            "\n",
            "+--------------+------+------+\n",
            "|Payment Method| false|  true|\n",
            "+--------------+------+------+\n",
            "|    debit card|215.22| 547.2|\n",
            "| bank transfer|215.15| 547.6|\n",
            "|        PayPal|215.13|469.52|\n",
            "|   credit card|206.31|517.75|\n",
            "+--------------+------+------+\n",
            "\n"
          ]
        }
      ],
      "source": [
        "from pyspark.sql.functions import col, log, month, mean, when, count, round\n",
        "\n",
        "print(\"1. Transaction bp\\n\")\n",
        "df = df.withColumn(\"Transaction_bp\", log(48 + (col(\"Transaction Amount\") * 36)))\n",
        "df.select(\"Transaction Amount\", \"Transaction_bp\").show()\n",
        "\n",
        "\n",
        "print(\"\\n2. Transaction Month\\n\")\n",
        "df = df.withColumn(\"Transaction_Month\", month(\"Transaction Date\"))\n",
        "df.select(\"Transaction Date\", \"Transaction_Month\").show()\n",
        "\n",
        "print(\"\\n3.Type of purchase\\n\")\n",
        "df = df.withColumn(\"Type_of_purchase\", when(col(\"Quantity\") <= 5, \"Compra minorista\").otherwise(\"Compra mayorista\"))\n",
        "df.select(\"Type_of_purchase\").show()\n",
        "\n",
        "print(\"\\n4.  Compras Alienigenas Mayoristas\\n\")\n",
        "df.filter((col(\"Is An Alien\") == True) & (col(\"Type_of_purchase\") == \"Compra mayorista\")).show()\n",
        "\n",
        "print(\"\\n5.  Compras humanas\\n\")\n",
        "df.groupby(\"Is An Alien\").agg(count(\"*\").alias(\"Cantidad_de_compras\")).show()\n",
        "\n",
        "\n",
        "print(\"\\n6- Recaudación\\n\")\n",
        "r = df.groupby(\"Payment Method\", \"Is An Alien\").agg(mean(\"Transaction Amount\").alias(\"Recaudacion_promedio\"))\n",
        "rp = r.groupBy(\"Payment Method\").pivot(\"Is An Alien\").agg(round(mean(\"Recaudacion_promedio\"), 2))\n",
        "rp.show()\n",
        "\n"
      ]
    },
    {
      "cell_type": "markdown",
      "metadata": {
        "id": "17Muj6u2jOLq"
      },
      "source": [
        "### 4. EDA [18 puntos]\n",
        "(1 punto por gráfico y 1 punto por su interpretación)"
      ]
    },
    {
      "cell_type": "markdown",
      "metadata": {
        "id": "7F3yo66wFQ0z"
      },
      "source": [
        "<center>\n",
        "<img src=\"https://i.pinimg.com/originals/41/7e/7b/417e7b9089bcc20c4909df8954c6e742.gif\" width=400 />\n",
        "\n"
      ]
    },
    {
      "cell_type": "markdown",
      "metadata": {
        "id": "ayN5LYRamE7-"
      },
      "source": [
        "Esta sección tiene como objetivo evaluar su habilidad para generar reportes y conclusiones a partir de los patrones identificados en los datos proporcionados por Bodoque. Específicamente, se enfoca en **caracterizar las transacciones** y **explorar las diferencias y similitudes en el comportamiento de humanos y aliens**. Utilice el dataset que ya incluye las transformaciones necesarias.\n",
        "\n",
        "Por favor, asegúrese de que **todas** las visualizaciones que realice cumplan con los siguientes criterios:\n",
        "- Deben ser relevantes y fáciles de interpretar.\n",
        "- Cada gráfico debe incluir un título claro, nombres en los ejes y leyendas adecuadas.\n",
        "- Adjunte una breve descripción interpretativa junto a cada gráfico para explicar los resultados visualizados.\n",
        "\n",
        "Para llevar a cabo esta tarea, siga los siguientes pasos utilizando la librería de visualización de su elección (matplotlib, seaborn, plotly, etc):\n",
        "\n",
        "1. **Conversión del DataFrame a formato pandas**: Pase el DataFrame procesado a formato pandas. Evite realizar transformaciones adicionales con pandas.\n",
        "2. **Visualización de Variables Categóricas**:\n",
        "   - Genere **tres gráficos de barras** que diferencien entre humanos y aliens. Analice y comente cualquier diferencia o similitud observada entre estos dos grupos.\n",
        "3. **Visualización de Variables Numéricas**:\n",
        "   - Elabore **tres distplots** para examinar las distribuciones de variables numéricas, diferenciando entre humanos y aliens. Comente las diferencias o similitudes notables.\n",
        "4. **Análisis de Patrones en Transacciones**:\n",
        "   - Cree **tres gráficos avanzados** que ayuden a identificar patrones en las transacciones. Estos gráficos deben incorporar al menos dos dimensiones y diferir de los anteriores. Algunos ejemplos podrían ser un lineplot que muestre la cantidad de transacciones mensuales por canal de venta, o un barplot que exhiba los tres productos más vendidos por canal.\n",
        "\n",
        "Estos pasos le permitirán no solo visualizar datos complejos de manera efectiva, sino también interpretar estos datos para extraer insights valiosos acerca del comportamiento de los consumidores en el contexto de Bodoque."
      ]
    },
    {
      "cell_type": "code",
      "execution_count": 32,
      "metadata": {
        "id": "tGw5y36IxRk3"
      },
      "outputs": [],
      "source": [
        "df_pandas = df.toPandas()"
      ]
    },
    {
      "cell_type": "code",
      "source": [
        "df_pandas.groupby(\"Is An Alien\")[\"Payment Method\"].value_counts().unstack(0).plot(kind=\"bar\", stacked=False)\n",
        "plt.title(\"Método de Pago \")\n",
        "plt.xlabel(\"Método de Pago\")\n",
        "plt.ylabel(\"n\")\n",
        "plt.legend(title=\"Es Alien\")\n",
        "plt.show()"
      ],
      "metadata": {
        "colab": {
          "base_uri": "https://localhost:8080/",
          "height": 552
        },
        "id": "ZOwzt7enFF5H",
        "outputId": "b35d03bd-e3ed-420b-c829-2bcb40b0a3ec"
      },
      "execution_count": 34,
      "outputs": [
        {
          "output_type": "display_data",
          "data": {
            "text/plain": [
              "<Figure size 640x480 with 1 Axes>"
            ],
            "image/png": "[encoded data removed]"
          },
          "metadata": {}
        }
      ]
    },
    {
      "cell_type": "markdown",
      "metadata": {
        "id": "97zN2_g4vgY6"
      },
      "source": [
        "### 5. Particiones y consultas en SQL [6 puntos]\n",
        "(2 puntos por pregunta)"
      ]
    },
    {
      "cell_type": "markdown",
      "metadata": {
        "id": "viNvNuE_odgc"
      },
      "source": [
        "<center>\n",
        "<img src=\"https://gitlab.com/imezadelajara/datos_clase_7_mds7202/-/raw/main/misc_images/1696330143457.gif\" width=400 />"
      ]
    },
    {
      "cell_type": "markdown",
      "metadata": {
        "id": "SCdHwyGBwVx8"
      },
      "source": [
        "El equipo de Bodoque e-shop ha solicitado que los datos estén disponibles en una tabla SQL consultable. Además, están interesados en aprovechar las funciones de ventana en SQL para análisis avanzados. Las funciones de ventana permiten realizar cálculos sobre un conjunto de filas que están relacionadas con la fila actual. Por ejemplo, UNBOUNDED PRECEDING se usa para indicar que el rango de la función de ventana comienza desde la primera fila de la partición o del conjunto de resultados, lo cual es útil para calcular sumas acumulativas hasta la fila actual. Las variaciones comunes de este uso incluyen:\n",
        "\n",
        "- `UNBOUNDED PRECEDING` to `CURRENT ROW`: Calcula desde el inicio de la partición hasta la fila actual.\n",
        "- `UNBOUNDED PRECEDING` to `UNBOUNDED FOLLOWING`: Cubre todas las filas dentro de la partición.\n",
        "- `VALUE PRECEDING` to `VALUE FOLLOWING`: Establece un rango específico basado en valores antes y después de la fila actual."
      ]
    },
    {
      "cell_type": "markdown",
      "metadata": {
        "id": "VntjejKLleIa"
      },
      "source": [
        "<center>\n",
        "<img src=\"https://learnsql.com/blog/sql-window-functions-rows-clause/1.png\" width=500 />"
      ]
    },
    {
      "cell_type": "markdown",
      "metadata": {
        "id": "D8XJ7NrPllKG"
      },
      "source": [
        "Ejemplo de uso en SQL:\n",
        "\n",
        "```sql\n",
        "STAT(COL1_NAME) OVER (PARTITION BY COL2_NAME ORDER BY COL3_NAME ROWS BETWEEN X PRECEDING AND CURRENT ROW)\n",
        "```\n",
        "\n",
        "\n",
        "Responda y realice los siguientes puntos:\n",
        "\n",
        "1. **Creación de Tabla con PySpark**:\n",
        "   - Desarrolle un script utilizando PySpark para crear una tabla a partir de un DataFrame previamente transformado. Seleccione y utilice una variable específica para la partición de la tabla. Justifique su elección de esta variable considerando factores como el tamaño del DataFrame, la distribución de los datos y el impacto potencial en el rendimiento de futuras consultas.\n",
        "\n",
        "2. **Consulta SQL para Principales Clientes**:\n",
        "   - Ejecute una consulta SQL para identificar los 10 clientes que más productos han comprado. La consulta debe retornar el ID del cliente junto con el total de productos comprados, ordenados en forma descendente.\n",
        "\n",
        "3. **Implementación de Función de Ventana en SQL y Equivalente en Spark**:\n",
        "   - Implemente una función de ventana en SQL para calcular la compra más alta realizada por cada usuario en los últimos tres meses. Además, describa cómo se podría realizar una función equivalente en Spark, considerando las capacidades específicas de PySpark para manejar este tipo de consultas.\n",
        "\n"
      ]
    },
    {
      "cell_type": "code",
      "execution_count": null,
      "metadata": {
        "id": "Xe_JQ3npiM6_"
      },
      "outputs": [],
      "source": [
        "#-"
      ]
    },
    {
      "cell_type": "markdown",
      "metadata": {
        "id": "AKQs-augfZBv"
      },
      "source": [
        "### 6. UDF [10 puntos]\n",
        "(2 por pregunta)"
      ]
    },
    {
      "cell_type": "markdown",
      "metadata": {
        "id": "ovDBGi-uhhdD"
      },
      "source": [
        "<center>\n",
        "<img src=\"https://64.media.tumblr.com/ba8c705edd2bed0a28d9458811155d69/tumblr_pap19zg4ae1w3zg6go1_400.gifv\" width=400 />"
      ]
    },
    {
      "cell_type": "markdown",
      "metadata": {
        "id": "TJUUnpi8qKHD"
      },
      "source": [
        "\n",
        "\n",
        "Un experto en predicciones y programación le ha proporcionado un objeto serializado (`pickle`) diseñado para calcular las probabilidades de que un cliente cometa o no un fraude. Este experto sugiere que, para maximizar las capacidades de procesamiento distribuido de Spark, debería implementar `Scalar User Defined Functions` (udf). Esto le permitirá aplicar el objeto serializado en un entorno distribuido a lo largo de toda la población de datos. Un aspecto clave de la función desarrollada por el experto es que se enfoca exclusivamente en las siguientes columnas para realizar las predicciones: `['Transaction Amount', 'Quantity', 'Customer Age', 'Transaction Hour']`.\n",
        "\n",
        "Aparte, el experto le proporciona las siguientes instrucciones para usar las UDF en Spark:\n",
        "\n",
        "```python\n",
        "from pyspark.sql.functions import udf\n",
        "from pyspark.sql.types import FloatType\n",
        "\n",
        "def custom_function(col):\n",
        "    pass\n",
        "\n",
        "udf_function = udf(custom_function, FloatType())\n",
        "```\n",
        "\n",
        "Basándose en la estructura proporcionada, debe desarrollar una función que ejecute un código específico. Tenga en cuenta que esta función solo puede recibir columnas de Spark y debe retornar el valor deseado. Posteriormente, deberá utilizar esta función UDF indicando la función personalizada y el formato de salida.\n",
        "\n",
        "Siga los siguientes pasos para implementar la solución y responda las preguntas:\n",
        "\n",
        "1. **Cargar el objeto serializado**: Revise el tipo de objeto y deduzca su función.\n",
        "2. **Explorar el objeto**: Utilice las funciones `dir` y `help` para identificar qué método del objeto predice la probabilidad.\n",
        "3. **Crear una función personalizada**: Elabore una función que prediga la probabilidad de fraude utilizando el último valor de la lista generada por el objeto serializado. Puede modificar el nombre de la función para reflejar su propósito.\n",
        "4. **Definir la función UDF**: Establezca la función UDF con la función personalizada que ha creado.\n",
        "5. **Generar una nueva columna**: Añada una nueva columna `prediction` a su DataFrame en Spark utilizando la función UDF y muestre un ejemplo de cómo se aplica. ¿Qué beneficios podría generar utilizar udf?"
      ]
    },
    {
      "cell_type": "code",
      "execution_count": 36,
      "metadata": {
        "id": "bPJVs2OBezN_",
        "colab": {
          "base_uri": "https://localhost:8080/"
        },
        "outputId": "822ff822-8c0c-44f6-8f58-e526548db502"
      },
      "outputs": [
        {
          "output_type": "stream",
          "name": "stdout",
          "text": [
            "['C', '__annotations__', '__class__', '__delattr__', '__dict__', '__dir__', '__doc__', '__eq__', '__format__', '__ge__', '__getattribute__', '__getstate__', '__gt__', '__hash__', '__init__', '__init_subclass__', '__le__', '__lt__', '__module__', '__ne__', '__new__', '__reduce__', '__reduce_ex__', '__repr__', '__setattr__', '__setstate__', '__sizeof__', '__str__', '__subclasshook__', '__weakref__', '_check_feature_names', '_check_n_features', '_estimator_type', '_get_param_names', '_get_tags', '_more_tags', '_parameter_constraints', '_predict_proba_lr', '_repr_html_', '_repr_html_inner', '_repr_mimebundle_', '_validate_data', '_validate_params', 'class_weight', 'classes_', 'coef_', 'decision_function', 'densify', 'dual', 'feature_names_in_', 'fit', 'fit_intercept', 'get_params', 'intercept_', 'intercept_scaling', 'l1_ratio', 'max_iter', 'multi_class', 'n_features_in_', 'n_iter_', 'n_jobs', 'penalty', 'predict', 'predict_log_proba', 'predict_proba', 'random_state', 'score', 'set_params', 'solver', 'sparsify', 'tol', 'verbose', 'warm_start']\n"
          ]
        }
      ],
      "source": [
        "print(dir(obj))"
      ]
    },
    {
      "cell_type": "code",
      "source": [
        "help(obj.predict_proba)"
      ],
      "metadata": {
        "colab": {
          "base_uri": "https://localhost:8080/"
        },
        "id": "bXWcWIoUGNEp",
        "outputId": "c59b50ae-0693-40db-c9df-00cab0e659bd"
      },
      "execution_count": 39,
      "outputs": [
        {
          "output_type": "stream",
          "name": "stdout",
          "text": [
            "Help on method predict_proba in module sklearn.linear_model._logistic:\n",
            "\n",
            "predict_proba(X) method of sklearn.linear_model._logistic.LogisticRegression instance\n",
            "    Probability estimates.\n",
            "    \n",
            "    The returned estimates for all classes are ordered by the\n",
            "    label of classes.\n",
            "    \n",
            "    For a multi_class problem, if multi_class is set to be \"multinomial\"\n",
            "    the softmax function is used to find the predicted probability of\n",
            "    each class.\n",
            "    Else use a one-vs-rest approach, i.e calculate the probability\n",
            "    of each class assuming it to be positive using the logistic function.\n",
            "    and normalize these values across all the classes.\n",
            "    \n",
            "    Parameters\n",
            "    ----------\n",
            "    X : array-like of shape (n_samples, n_features)\n",
            "        Vector to be scored, where `n_samples` is the number of samples and\n",
            "        `n_features` is the number of features.\n",
            "    \n",
            "    Returns\n",
            "    -------\n",
            "    T : array-like of shape (n_samples, n_classes)\n",
            "        Returns the probability of the sample for each class in the model,\n",
            "        where classes are ordered as they are in ``self.classes_``.\n",
            "\n"
          ]
        }
      ]
    },
    {
      "cell_type": "code",
      "source": [
        "from pyspark.sql.functions import udf\n",
        "from pyspark.sql.types import FloatType\n",
        "\n",
        "def predict_proba_udf(col):\n",
        "    cols = ['Transaction Amount', 'Quantity', 'Customer Age', 'Transaction Hour']\n",
        "    data = np.array(col).reshape(1, -1)\n",
        "    p = obj.predict_proba(data)\n",
        "    return float(p[0:])\n",
        "\n",
        "udf_probabilidad = udf(predict_proba_udf, FloatType())"
      ],
      "metadata": {
        "id": "j9v3QrooHhfs"
      },
      "execution_count": 42,
      "outputs": []
    },
    {
      "cell_type": "code",
      "source": [
        "df = df.withColumn(\"predicción\",predict_proba_udf(col))"
      ],
      "metadata": {
        "id": "VebIQaUuINQM"
      },
      "execution_count": null,
      "outputs": []
    }
  ],
  "metadata": {
    "colab": {
      "provenance": []
    },
    "kernelspec": {
      "display_name": "Python 3",
      "name": "python3"
    },
    "language_info": {
      "name": "python"
    }
  },
  "nbformat": 4,
  "nbformat_minor": 0
}